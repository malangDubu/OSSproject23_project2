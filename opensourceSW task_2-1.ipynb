{
 "cells": [
  {
   "cell_type": "code",
   "execution_count": 45,
   "id": "628a6a1d",
   "metadata": {},
   "outputs": [
    {
     "name": "stdout",
     "output_type": "stream",
     "text": [
      "C:\\Users\\User\n"
     ]
    }
   ],
   "source": [
    "import os\n",
    "print(os.getcwd())"
   ]
  },
  {
   "cell_type": "code",
   "execution_count": 46,
   "id": "eea525c2",
   "metadata": {},
   "outputs": [],
   "source": [
    "import pandas as pd"
   ]
  },
  {
   "cell_type": "code",
   "execution_count": 47,
   "id": "dc13e51b",
   "metadata": {},
   "outputs": [],
   "source": [
    "data = pd.read_csv('2019_kbo_for_kaggle_v2.csv')"
   ]
  },
  {
   "cell_type": "code",
   "execution_count": 48,
   "id": "9ef1097f",
   "metadata": {},
   "outputs": [],
   "source": [
    "frame = pd.DataFrame(data)"
   ]
  },
  {
   "cell_type": "code",
   "execution_count": 49,
   "id": "e0c6dba6",
   "metadata": {},
   "outputs": [],
   "source": [
    "#2-1(1), 2015년 : 2015년의 데이터만 뽑아온다.\n",
    "frame_year2015 = frame[(frame['year']== 2015)]"
   ]
  },
  {
   "cell_type": "code",
   "execution_count": 50,
   "id": "f17d6a34",
   "metadata": {},
   "outputs": [],
   "source": [
    "#2-1(1), 2015년 : frame_year2015의 H, batter_name 열을 뽑는다.\n",
    "frame_year2015_columnH = frame_year2015[['H', 'batter_name']]"
   ]
  },
  {
   "cell_type": "code",
   "execution_count": 51,
   "id": "3e8feef6",
   "metadata": {},
   "outputs": [],
   "source": [
    "#2-1(1), 2015년 : frame_year2015_columnH를 H열 기준 내림차순으로 정렬하고, 상위 10행을 뽑는다.\n",
    "frame_year2015_columnH_final = frame_year2015_columnH.sort_values(by='H', ascending=False).head(10)"
   ]
  },
  {
   "cell_type": "code",
   "execution_count": 52,
   "id": "a440bd53",
   "metadata": {},
   "outputs": [],
   "source": [
    "#2-1(1), 2015년 : frame_year2015의 avg, batter_name 열을 뽑는다.\n",
    "frame_year2015_columnavg = frame_year2015[['avg', 'batter_name']]"
   ]
  },
  {
   "cell_type": "code",
   "execution_count": 53,
   "id": "b5dbc72e",
   "metadata": {},
   "outputs": [],
   "source": [
    "#2-1(1), 2015년 : frame_year2015_columnavg를 avg열 기준 내림차순으로 정렬하고, 상위 10행을 뽑는다.\n",
    "frame_year2015_columnavg_final = frame_year2015_columnavg.sort_values(by='avg', ascending=False).head(10)"
   ]
  },
  {
   "cell_type": "code",
   "execution_count": 54,
   "id": "f59ff671",
   "metadata": {},
   "outputs": [],
   "source": [
    "#2-1(1), 2015년 : frame_year2015의 HR, batter_name 열을 뽑는다.\n",
    "frame_year2015_columnHR = frame_year2015[['HR', 'batter_name']]"
   ]
  },
  {
   "cell_type": "code",
   "execution_count": 55,
   "id": "d1fd2ce2",
   "metadata": {},
   "outputs": [],
   "source": [
    "#2-1(1), 2015년 : frame_year2015_columnHR를 HR열 기준 내림차순으로 정렬하고, 상위 10행을 뽑는다.\n",
    "frame_year2015_columnHR_final = frame_year2015_columnHR.sort_values(by='HR', ascending=False).head(10)"
   ]
  },
  {
   "cell_type": "code",
   "execution_count": 56,
   "id": "5e097068",
   "metadata": {},
   "outputs": [],
   "source": [
    "#2-1(1), 2015년 : frame_year2015의 OBP, batter_name 열을 뽑는다.\n",
    "frame_year2015_columnOBP = frame_year2015[['OBP', 'batter_name']]"
   ]
  },
  {
   "cell_type": "code",
   "execution_count": 57,
   "id": "315bf312",
   "metadata": {},
   "outputs": [],
   "source": [
    "#2-1(1), 2015년 : frame_year2015_columnOBP를 OBP열 기준 내림차순으로 정렬하고, 상위 10행을 뽑는다.\n",
    "frame_year2015_columnOBP_final = frame_year2015_columnOBP.sort_values(by='OBP', ascending=False).head(10)"
   ]
  },
  {
   "cell_type": "code",
   "execution_count": 58,
   "id": "b89c7821",
   "metadata": {
    "scrolled": true
   },
   "outputs": [
    {
     "data": {
      "text/plain": [
       "(          H batter_name\n",
       " 938   188.0         유한준\n",
       " 858   184.0         나성범\n",
       " 1626  180.0         테임즈\n",
       " 1616  174.0           필\n",
       " 109   174.0         최형우\n",
       " 149   168.0         이용규\n",
       " 1635  165.0         아두치\n",
       " 348   164.0         이명기\n",
       " 751   159.0         박용택\n",
       " 797   158.0         박민우,\n",
       "         avg batter_name\n",
       " 763   0.500         이진석\n",
       " 1626  0.381         테임즈\n",
       " 413   0.375         배영섭\n",
       " 938   0.362         유한준\n",
       " 1004  0.349         구자욱\n",
       " 1348  0.348         채태인\n",
       " 1630  0.348         마르테\n",
       " 1697  0.342         박건우\n",
       " 149   0.341         이용규\n",
       " 708   0.340         서상우,\n",
       "         HR batter_name\n",
       " 1626  47.0         테임즈\n",
       " 959   35.0         강민호\n",
       " 109   33.0         최형우\n",
       " 284   31.0         최준석\n",
       " 858   28.0         나성범\n",
       " 171   28.0         이범호\n",
       " 1635  28.0         아두치\n",
       " 834   26.0         박석민\n",
       " 911   26.0         황재균\n",
       " 1895  26.0         이승엽,\n",
       "         OBP batter_name\n",
       " 763   0.500         이진석\n",
       " 1626  0.497         테임즈\n",
       " 1682  0.457         김태균\n",
       " 413   0.444         배영섭\n",
       " 834   0.441         박석민\n",
       " 938   0.430         유한준\n",
       " 284   0.428         최준석\n",
       " 149   0.427         이용규\n",
       " 721   0.423         안익훈\n",
       " 959   0.421         강민호)"
      ]
     },
     "execution_count": 58,
     "metadata": {},
     "output_type": "execute_result"
    }
   ],
   "source": [
    "#2-1(1), 2015년 : 2015년의 특정 네 개의 열에 대해 top10 player를 출력한다.\n",
    "frame_year2015_columnH_final, frame_year2015_columnavg_final, frame_year2015_columnHR_final, frame_year2015_columnOBP_final"
   ]
  },
  {
   "cell_type": "code",
   "execution_count": 59,
   "id": "94aad39e",
   "metadata": {},
   "outputs": [],
   "source": [
    "#2-1(1), 2016년 : 2016년의 데이터만 뽑아온다.\n",
    "frame_year2016 = frame[(frame['year']== 2016)]"
   ]
  },
  {
   "cell_type": "code",
   "execution_count": 60,
   "id": "96de479d",
   "metadata": {},
   "outputs": [],
   "source": [
    "#2-1(1), 2016년 : frame_year2016의 H, batter_name 열을 뽑는다.\n",
    "frame_year2016_columnH = frame_year2016[['H', 'batter_name']]"
   ]
  },
  {
   "cell_type": "code",
   "execution_count": 61,
   "id": "24eb8b68",
   "metadata": {},
   "outputs": [],
   "source": [
    "#2-1(1), 2016년 : frame_year2016_columnH를 H열 기준 내림차순으로 정렬하고, 상위 10행을 뽑는다.\n",
    "frame_year2016_columnH_final = frame_year2016_columnH.sort_values(by='H', ascending=False).head(10)"
   ]
  },
  {
   "cell_type": "code",
   "execution_count": 62,
   "id": "f1a3c4b9",
   "metadata": {},
   "outputs": [],
   "source": [
    "#2-1(1), 2016년 : frame_year2016의 avg, batter_name 열을 뽑는다.\n",
    "frame_year2016_columnavg = frame_year2016[['avg', 'batter_name']]"
   ]
  },
  {
   "cell_type": "code",
   "execution_count": 63,
   "id": "1a71204d",
   "metadata": {},
   "outputs": [],
   "source": [
    "#2-1(1), 2016년 : frame_year2016_columnavg를 avg열 기준 내림차순으로 정렬하고, 상위 10행을 뽑는다.\n",
    "frame_year2016_columnavg_final = frame_year2016_columnavg.sort_values(by='avg', ascending=False).head(10)"
   ]
  },
  {
   "cell_type": "code",
   "execution_count": 64,
   "id": "f76aebc7",
   "metadata": {},
   "outputs": [],
   "source": [
    "#2-1(1), 2016년 : frame_year2016의 HR, batter_name 열을 뽑는다.\n",
    "frame_year2016_columnHR = frame_year2016[['HR', 'batter_name']]"
   ]
  },
  {
   "cell_type": "code",
   "execution_count": 65,
   "id": "7cd6a8ad",
   "metadata": {},
   "outputs": [],
   "source": [
    "#2-1(1), 2016년 : frame_year2016_columnHR를 HR열 기준 내림차순으로 정렬하고, 상위 10행을 뽑는다.\n",
    "frame_year2016_columnHR_final = frame_year2016_columnHR.sort_values(by='HR', ascending=False).head(10)"
   ]
  },
  {
   "cell_type": "code",
   "execution_count": 66,
   "id": "48cf9e6a",
   "metadata": {},
   "outputs": [],
   "source": [
    "#2-1(1), 2016년 : frame_year2016의 OBP, batter_name 열을 뽑는다.\n",
    "frame_year2016_columnOBP = frame_year2016[['OBP', 'batter_name']]"
   ]
  },
  {
   "cell_type": "code",
   "execution_count": 67,
   "id": "2437ca46",
   "metadata": {},
   "outputs": [],
   "source": [
    "#2-1(1), 2016년 : frame_year2016_columnOBP를 OBP열 기준 내림차순으로 정렬하고, 상위 10행을 뽑는다.\n",
    "frame_year2016_columnOBP_final = frame_year2016_columnOBP.sort_values(by='OBP', ascending=False).head(10)"
   ]
  },
  {
   "cell_type": "code",
   "execution_count": 68,
   "id": "edc51bff",
   "metadata": {
    "scrolled": true
   },
   "outputs": [
    {
     "data": {
      "text/plain": [
       "(          H batter_name\n",
       " 110   195.0         최형우\n",
       " 1683  193.0         김태균\n",
       " 1411  186.0         손아섭\n",
       " 332   182.0         서건창\n",
       " 425   179.0         정의윤\n",
       " 581   178.0         정근우\n",
       " 859   177.0         나성범\n",
       " 51    177.0         김주찬\n",
       " 752   176.0         박용택\n",
       " 430   176.0         고종욱,\n",
       "         avg batter_name\n",
       " 1012  1.000         권정웅\n",
       " 1787  0.458         최원준\n",
       " 322   0.429         김웅빈\n",
       " 793   0.400         박광열\n",
       " 472   0.386         나주환\n",
       " 110   0.376         최형우\n",
       " 1784  0.375         정진호\n",
       " 942   0.375         박준혁\n",
       " 1683  0.365         김태균\n",
       " 24    0.360         김선빈,\n",
       "         HR batter_name\n",
       " 499   40.0          최정\n",
       " 264   37.0         김재환\n",
       " 1633  33.0        로사리오\n",
       " 172   33.0         이범호\n",
       " 835   32.0         박석민\n",
       " 110   31.0         최형우\n",
       " 425   27.0         정의윤\n",
       " 1896  27.0         이승엽\n",
       " 221   27.0         오재일\n",
       " 1912  26.0        히메네스,\n",
       "         OBP batter_name\n",
       " 1012  1.000         권정웅\n",
       " 1784  0.531         정진호\n",
       " 1683  0.475         김태균\n",
       " 110   0.464         최형우\n",
       " 1787  0.458         최원준\n",
       " 1693  0.458         김태완\n",
       " 657   0.456         최재원\n",
       " 1325  0.451         신본기\n",
       " 99    0.451         나지완\n",
       " 942   0.444         박준혁)"
      ]
     },
     "execution_count": 68,
     "metadata": {},
     "output_type": "execute_result"
    }
   ],
   "source": [
    "#2-1(1), 2016년 : 2016년의 특정 네 개의 열에 대해 top10 player를 출력한다.\n",
    "frame_year2016_columnH_final, frame_year2016_columnavg_final, frame_year2016_columnHR_final, frame_year2016_columnOBP_final"
   ]
  },
  {
   "cell_type": "code",
   "execution_count": 69,
   "id": "0d95de9a",
   "metadata": {
    "scrolled": true
   },
   "outputs": [
    {
     "data": {
      "text/plain": [
       "(          H batter_name\n",
       " 1412  193.0         손아섭\n",
       " 265   185.0         김재환\n",
       " 333   179.0         서건창\n",
       " 381   179.0         이정후\n",
       " 1617  178.0        버나디나\n",
       " 1699  177.0         박건우\n",
       " 25    176.0         김선빈\n",
       " 111   176.0         최형우\n",
       " 753   175.0         박용택\n",
       " 1006  175.0         구자욱,\n",
       "         avg batter_name\n",
       " 25    0.370         김선빈\n",
       " 1699  0.366         박건우\n",
       " 799   0.363         박민우\n",
       " 860   0.347         나성범\n",
       " 753   0.344         박용택\n",
       " 111   0.342         최형우\n",
       " 1684  0.340         김태균\n",
       " 265   0.340         김재환\n",
       " 1727  0.335         이상호\n",
       " 1412  0.335         손아섭,\n",
       "         HR batter_name\n",
       " 500   46.0          최정\n",
       " 1627  35.0        스크럭스\n",
       " 265   35.0         김재환\n",
       " 1338  34.0         이대호\n",
       " 1631  31.0          러프\n",
       " 502   31.0          로맥\n",
       " 442   29.0         한동민\n",
       " 100   27.0         나지완\n",
       " 1617  27.0        버나디나\n",
       " 111   26.0         최형우,\n",
       "         OBP batter_name\n",
       " 111   0.450         최형우\n",
       " 799   0.441         박민우\n",
       " 265   0.429         김재환\n",
       " 500   0.427          최정\n",
       " 753   0.424         박용택\n",
       " 1699  0.424         박건우\n",
       " 1412  0.420         손아섭\n",
       " 25    0.420         김선빈\n",
       " 860   0.415         나성범\n",
       " 1684  0.413         김태균)"
      ]
     },
     "execution_count": 69,
     "metadata": {},
     "output_type": "execute_result"
    }
   ],
   "source": [
    "#2-1(1), 2017년 : 2017년의 데이터만 뽑아온다.\n",
    "frame_year2017 = frame[(frame['year']== 2017)]\n",
    "#2-1(1), 2017년 : frame_year2017의 H, batter_name 열을 뽑는다.\n",
    "frame_year2017_columnH = frame_year2017[['H', 'batter_name']]\n",
    "#2-1(1), 2017년 : frame_year2017_columnH를 H열 기준 내림차순으로 정렬하고, 상위 10행을 뽑는다.\n",
    "frame_year2017_columnH_final = frame_year2017_columnH.sort_values(by='H', ascending=False).head(10)\n",
    "#2-1(1), 2017년 : frame_year2017의 avg, batter_name 열을 뽑는다.\n",
    "frame_year2017_columnavg = frame_year2017[['avg', 'batter_name']]\n",
    "#2-1(1), 2017년 : frame_year2017_columnavg를 avg열 기준 내림차순으로 정렬하고, 상위 10행을 뽑는다.\n",
    "frame_year2017_columnavg_final = frame_year2017_columnavg.sort_values(by='avg', ascending=False).head(10)\n",
    "#2-1(1), 2017년 : frame_year2017의 HR, batter_name 열을 뽑는다.\n",
    "frame_year2017_columnHR = frame_year2017[['HR', 'batter_name']]\n",
    "#2-1(1), 2017년 : frame_year2017_columnHR를 HR열 기준 내림차순으로 정렬하고, 상위 10행을 뽑는다.\n",
    "frame_year2017_columnHR_final = frame_year2017_columnHR.sort_values(by='HR', ascending=False).head(10)\n",
    "#2-1(1), 2017년 : frame_year2017의 OBP, batter_name 열을 뽑는다.\n",
    "frame_year2017_columnOBP = frame_year2017[['OBP', 'batter_name']]\n",
    "#2-1(1), 2017년 : frame_year2017_columnOBP를 OBP열 기준 내림차순으로 정렬하고, 상위 10행을 뽑는다.\n",
    "frame_year2017_columnOBP_final = frame_year2017_columnOBP.sort_values(by='OBP', ascending=False).head(10)\n",
    "#2-1(1), 2017년 : 2017년의 특정 네 개의 열에 대해 top10 player를 출력한다.\n",
    "frame_year2017_columnH_final, frame_year2017_columnavg_final, frame_year2017_columnHR_final, frame_year2017_columnOBP_final"
   ]
  },
  {
   "cell_type": "code",
   "execution_count": 70,
   "id": "a9a1a269",
   "metadata": {},
   "outputs": [
    {
     "data": {
      "text/plain": [
       "(          H batter_name\n",
       " 1382  190.0         전준우\n",
       " 1413  182.0         손아섭\n",
       " 1339  181.0         이대호\n",
       " 112   179.0         최형우\n",
       " 861   177.0         나성범\n",
       " 266   176.0         김재환\n",
       " 762   175.0         채은성\n",
       " 245   173.0         최주환\n",
       " 1629  172.0         로하스\n",
       " 1001  172.0         박해민,\n",
       "         avg batter_name\n",
       " 507   0.500         안상현\n",
       " 82    0.424         유재신\n",
       " 691   0.400         양원혁\n",
       " 175   0.385         장승현\n",
       " 188   0.375         전민재\n",
       " 260   0.367         정수빈\n",
       " 1353  0.364         전병우\n",
       " 1853  0.362         김현수\n",
       " 782   0.358         양의지\n",
       " 1414  0.357          허일,\n",
       "         HR batter_name\n",
       " 266   44.0         김재환\n",
       " 1629  43.0         로하스\n",
       " 1708  43.0         박병호\n",
       " 503   43.0          로맥\n",
       " 443   41.0         한동민\n",
       " 1339  37.0         이대호\n",
       " 501   35.0          최정\n",
       " 1097  34.0         이성열\n",
       " 1382  33.0         전준우\n",
       " 1632  33.0          러프,\n",
       "         OBP batter_name\n",
       " 608   1.000         최윤석\n",
       " 82    0.525         유재신\n",
       " 691   0.500         양원혁\n",
       " 507   0.500         안상현\n",
       " 1708  0.457         박병호\n",
       " 1353  0.442         전병우\n",
       " 252   0.429         국해성\n",
       " 260   0.429         정수빈\n",
       " 175   0.429         장승현\n",
       " 782   0.427         양의지)"
      ]
     },
     "execution_count": 70,
     "metadata": {},
     "output_type": "execute_result"
    }
   ],
   "source": [
    "#2-1(1), 2018년 : 2018년의 데이터만 뽑아온다.\n",
    "frame_year2018 = frame[(frame['year']== 2018)]\n",
    "#2-1(1), 2018년 : frame_year2018의 H, batter_name 열을 뽑는다.\n",
    "frame_year2018_columnH = frame_year2018[['H', 'batter_name']]\n",
    "#2-1(1), 2018년 : frame_year2018_columnH를 H열 기준 내림차순으로 정렬하고, 상위 10행을 뽑는다.\n",
    "frame_year2018_columnH_final = frame_year2018_columnH.sort_values(by='H', ascending=False).head(10)\n",
    "#2-1(1), 2018년 : frame_year2018의 avg, batter_name 열을 뽑는다.\n",
    "frame_year2018_columnavg = frame_year2018[['avg', 'batter_name']]\n",
    "#2-1(1), 2018년 : frame_year2018_columnavg를 avg열 기준 내림차순으로 정렬하고, 상위 10행을 뽑는다.\n",
    "frame_year2018_columnavg_final = frame_year2018_columnavg.sort_values(by='avg', ascending=False).head(10)\n",
    "#2-1(1), 2018년 : frame_year2018의 HR, batter_name 열을 뽑는다.\n",
    "frame_year2018_columnHR = frame_year2018[['HR', 'batter_name']]\n",
    "#2-1(1), 2018년 : frame_year2018_columnHR를 HR열 기준 내림차순으로 정렬하고, 상위 10행을 뽑는다.\n",
    "frame_year2018_columnHR_final = frame_year2018_columnHR.sort_values(by='HR', ascending=False).head(10)\n",
    "#2-1(1), 2018년 : frame_year2018의 OBP, batter_name 열을 뽑는다.\n",
    "frame_year2018_columnOBP = frame_year2018[['OBP', 'batter_name']]\n",
    "#2-1(1), 2018년 : frame_year2018_columnOBP를 OBP열 기준 내림차순으로 정렬하고, 상위 10행을 뽑는다.\n",
    "frame_year2018_columnOBP_final = frame_year2018_columnOBP.sort_values(by='OBP', ascending=False).head(10)\n",
    "#2-1(1), 2018년 : 2018년의 특정 네 개의 열에 대해 top10 player를 출력한다.\n",
    "frame_year2018_columnH_final, frame_year2018_columnavg_final, frame_year2018_columnHR_final, frame_year2018_columnOBP_final"
   ]
  },
  {
   "cell_type": "code",
   "execution_count": 71,
   "id": "e448ae85",
   "metadata": {
    "scrolled": true
   },
   "outputs": [
    {
     "data": {
      "text/plain": [
       "(782    양의지\n",
       " Name: batter_name, dtype: object,\n",
       " 1708    박병호\n",
       " Name: batter_name, dtype: object,\n",
       " 245    최주환\n",
       " Name: batter_name, dtype: object,\n",
       " 195    허경민\n",
       " Name: batter_name, dtype: object,\n",
       " 327    김하성\n",
       " Name: batter_name, dtype: object,\n",
       " 266    김재환\n",
       " Name: batter_name, dtype: object,\n",
       " 1413    손아섭\n",
       " Name: batter_name, dtype: object,\n",
       " 1629    로하스\n",
       " Name: batter_name, dtype: object)"
      ]
     },
     "execution_count": 71,
     "metadata": {},
     "output_type": "execute_result"
    }
   ],
   "source": [
    "#2-1(2): 2018년의 데이터만 뽑아온다.\n",
    "frame_year2018 = frame[(frame['year']== 2018)]\n",
    "#frame_year2018에서 cp가 포수인 행을 뽑아온다.\n",
    "frame_year2018_catcher = frame_year2018[frame_year2018['cp'] == '포수']\n",
    "#frame_year2018_catcher를 war기준 내림차순 정렬 후, 제일 위 행을 뽑는다.\n",
    "frame_year2018_catcher_best = frame_year2018_catcher.sort_values(by='war', ascending=False).head(1)\n",
    "#frame_year2018_catcher_best에서 batter_name을 뽑는다.\n",
    "bestCatcher = frame_year2018_catcher_best['batter_name']\n",
    "###\n",
    "#frame_year2018에서 cp가 1루수인 행을 뽑아온다.\n",
    "frame_year2018_baseman1 = frame_year2018[frame_year2018['cp'] =='1루수']\n",
    "#frame_year2018_baseman1을 war기준 내림차순 정렬 후, 제일 위 행을 뽑는다.\n",
    "frame_year2018_baseman1_best = frame_year2018_baseman1.sort_values(by='war', ascending=False).head(1)\n",
    "#frame_year2018_baseman1_best에서 batter_name을 뽑는다.\n",
    "bestBaseman1 = frame_year2018_baseman1_best['batter_name']\n",
    "###\n",
    "#frame_year2018에서 cp가 2루수인 행을 뽑아온다.\n",
    "frame_year2018_baseman2 = frame_year2018[frame_year2018['cp'] =='2루수']\n",
    "#frame_year2018_baseman2을 war기준 내림차순 정렬 후, 제일 위 행을 뽑는다.\n",
    "frame_year2018_baseman2_best = frame_year2018_baseman2.sort_values(by='war', ascending=False).head(1)\n",
    "#frame_year2018_baseman2_best에서 batter_name을 뽑는다.\n",
    "bestBaseman2 = frame_year2018_baseman2_best['batter_name']\n",
    "###\n",
    "#frame_year2018에서 cp가 3루수인 행을 뽑아온다.\n",
    "frame_year2018_baseman3 = frame_year2018[frame_year2018['cp'] =='3루수']\n",
    "#frame_year2018_baseman3을 war기준 내림차순 정렬 후, 제일 위 행을 뽑는다.\n",
    "frame_year2018_baseman3_best = frame_year2018_baseman3.sort_values(by='war', ascending=False).head(1)\n",
    "#frame_year2018_baseman3_best에서 batter_name을 뽑는다.\n",
    "bestBaseman3 = frame_year2018_baseman3_best['batter_name']\n",
    "###\n",
    "#frame_year2018에서 cp가 유격수인 행을 뽑아온다.\n",
    "frame_year2018_shortstop = frame_year2018[frame_year2018['cp'] =='유격수']\n",
    "#frame_year2018_shortstop을 war기준 내림차순 정렬 후, 제일 위 행을 뽑는다.\n",
    "frame_year2018_shortstop_best = frame_year2018_shortstop.sort_values(by='war', ascending=False).head(1)\n",
    "#frame_year2018_shortstop_best에서 batter_name을 뽑는다.\n",
    "bestShortstop = frame_year2018_shortstop_best['batter_name']\n",
    "###\n",
    "#frame_year2018에서 cp가 좌익수인 행을 뽑아온다.\n",
    "frame_year2018_left = frame_year2018[frame_year2018['cp'] =='좌익수']\n",
    "#frame_year2018_left을 war기준 내림차순 정렬 후, 제일 위 행을 뽑는다.\n",
    "frame_year2018_left_best = frame_year2018_left.sort_values(by='war', ascending=False).head(1)\n",
    "#frame_year2018_left_best에서 batter_name을 뽑는다.\n",
    "bestLeft = frame_year2018_left_best['batter_name']\n",
    "###\n",
    "#frame_year2018에서 cp가 우익수인 행을 뽑아온다.\n",
    "frame_year2018_right = frame_year2018[frame_year2018['cp'] =='우익수']\n",
    "#frame_year2018_right을 war기준 내림차순 정렬 후, 제일 위 행을 뽑는다.\n",
    "frame_year2018_right_best = frame_year2018_right.sort_values(by='war', ascending=False).head(1)\n",
    "#frame_year2018_right_best에서 batter_name을 뽑는다.\n",
    "bestRight = frame_year2018_right_best['batter_name']\n",
    "###\n",
    "#frame_year2018에서 cp가 중견수인 행을 뽑아온다.\n",
    "frame_year2018_middle = frame_year2018[frame_year2018['cp'] =='중견수']\n",
    "#frame_year2018_middle을 war기준 내림차순 정렬 후, 제일 위 행을 뽑는다.\n",
    "frame_year2018_middle_best = frame_year2018_middle.sort_values(by='war', ascending=False).head(1)\n",
    "#frame_year2018_middle_best에서 batter_name을 뽑는다.\n",
    "bestMiddle = frame_year2018_middle_best['batter_name']\n",
    "###\n",
    "#position별 승리 기여도가 높은 선수들의 이름을 출력한다.\n",
    "bestCatcher, bestBaseman1, bestBaseman2, bestBaseman3, bestShortstop, bestLeft, bestRight, bestMiddle"
   ]
  },
  {
   "cell_type": "code",
   "execution_count": 72,
   "id": "e88e6bfa",
   "metadata": {},
   "outputs": [
    {
     "data": {
      "text/plain": [
       "'RBI'"
      ]
     },
     "execution_count": 72,
     "metadata": {},
     "output_type": "execute_result"
    }
   ],
   "source": [
    "#2-1(3)\n",
    "#salary와의 correlation을 비교하고 싶은 열만 뽑는다.\n",
    "frame_filtered = frame[['R', 'HR', 'RBI', 'SB', 'war', 'avg', 'OBP', 'SLG']]\n",
    "#salary와 각 열의 공분산을 계산한다.\n",
    "frame_cor = frame_filtered.corrwith(frame.salary)\n",
    "#frame_cor의 값 중 가장 큰 값의 인덱스를 추출한다.\n",
    "frame_cor.idxmax()"
   ]
  }
 ],
 "metadata": {
  "kernelspec": {
   "display_name": "Python 3 (ipykernel)",
   "language": "python",
   "name": "python3"
  },
  "language_info": {
   "codemirror_mode": {
    "name": "ipython",
    "version": 3
   },
   "file_extension": ".py",
   "mimetype": "text/x-python",
   "name": "python",
   "nbconvert_exporter": "python",
   "pygments_lexer": "ipython3",
   "version": "3.9.12"
  }
 },
 "nbformat": 4,
 "nbformat_minor": 5
}
